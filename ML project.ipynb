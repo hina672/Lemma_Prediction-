{
 "cells": [
  {
   "cell_type": "markdown",
   "id": "2ef93710-7dd9-44cc-891c-ab26ce836144",
   "metadata": {},
   "source": [
    "# Install Libraries"
   ]
  },
  {
   "cell_type": "code",
   "execution_count": null,
   "id": "4bf79977-a757-47e5-81d9-1a872d402d66",
   "metadata": {},
   "outputs": [],
   "source": [
    "!pip install pandas numpy scikit-learn tensorflow matplotlib openpyxl\n"
   ]
  },
  {
   "cell_type": "markdown",
   "id": "477b732c-5e12-4ff8-a5d8-2cd9b6143425",
   "metadata": {},
   "source": [
    "# Import Libraries"
   ]
  },
  {
   "cell_type": "code",
   "execution_count": 1,
   "id": "7fbfccca-5006-4a19-a8e0-0b4db2cba745",
   "metadata": {},
   "outputs": [],
   "source": [
    "# Importing necessary libraries\n",
    "import pandas as pd\n",
    "import numpy as np\n",
    "from sklearn.model_selection import train_test_split\n",
    "from sklearn.preprocessing import LabelEncoder\n",
    "from tensorflow.keras.preprocessing.text import Tokenizer\n",
    "from tensorflow.keras.preprocessing.sequence import pad_sequences\n",
    "from tensorflow.keras.models import Sequential\n",
    "from tensorflow.keras.layers import Embedding, LSTM, Dense\n",
    "import matplotlib.pyplot as plt\n"
   ]
  },
  {
   "cell_type": "markdown",
   "id": "29bf7d74-9654-4d10-8138-667bb01c74df",
   "metadata": {},
   "source": [
    "# Load the Dataset"
   ]
  },
  {
   "cell_type": "code",
   "execution_count": 30,
   "id": "08dc3d4e-c320-4a18-8c77-22908f795121",
   "metadata": {},
   "outputs": [
    {
     "data": {
      "text/html": [
       "<div>\n",
       "<style scoped>\n",
       "    .dataframe tbody tr th:only-of-type {\n",
       "        vertical-align: middle;\n",
       "    }\n",
       "\n",
       "    .dataframe tbody tr th {\n",
       "        vertical-align: top;\n",
       "    }\n",
       "\n",
       "    .dataframe thead th {\n",
       "        text-align: right;\n",
       "    }\n",
       "</style>\n",
       "<table border=\"1\" class=\"dataframe\">\n",
       "  <thead>\n",
       "    <tr style=\"text-align: right;\">\n",
       "      <th></th>\n",
       "      <th>Lemma</th>\n",
       "      <th>Word</th>\n",
       "    </tr>\n",
       "  </thead>\n",
       "  <tbody>\n",
       "    <tr>\n",
       "      <th>0</th>\n",
       "      <td>علمبردار</td>\n",
       "      <td>علمبرداردے</td>\n",
       "    </tr>\n",
       "    <tr>\n",
       "      <th>1</th>\n",
       "      <td>چکھوا</td>\n",
       "      <td>چکھوادی</td>\n",
       "    </tr>\n",
       "    <tr>\n",
       "      <th>2</th>\n",
       "      <td>چھیڑوا</td>\n",
       "      <td>چھیڑواوئیے</td>\n",
       "    </tr>\n",
       "    <tr>\n",
       "      <th>3</th>\n",
       "      <td>نپا</td>\n",
       "      <td>نپاندی</td>\n",
       "    </tr>\n",
       "    <tr>\n",
       "      <th>4</th>\n",
       "      <td>پشاوریت</td>\n",
       "      <td>پشاوریتو</td>\n",
       "    </tr>\n",
       "  </tbody>\n",
       "</table>\n",
       "</div>"
      ],
      "text/plain": [
       "      Lemma        Word\n",
       "0  علمبردار  علمبرداردے\n",
       "1     چکھوا     چکھوادی\n",
       "2    چھیڑوا  چھیڑواوئیے\n",
       "3       نپا      نپاندی\n",
       "4   پشاوریت    پشاوریتو"
      ]
     },
     "execution_count": 30,
     "metadata": {},
     "output_type": "execute_result"
    }
   ],
   "source": [
    "# Load the dataset\n",
    "file_path = r\"C:\\Users\\Hp\\OneDrive\\Documents\\UNI\\ML\\urdu punjabi merged Dataset.xlsx\"\n",
    "data = pd.read_excel(file_path)\n",
    "\n",
    "# Display the first 5 rows of the dataset\n",
    "data.head()\n"
   ]
  },
  {
   "cell_type": "markdown",
   "id": "7ce9f055-9ecc-46e8-8d57-584dffd544d6",
   "metadata": {},
   "source": [
    "# Preprocess the Data"
   ]
  },
  {
   "cell_type": "code",
   "execution_count": 28,
   "id": "b483de4d-1927-4a0a-93a4-3ee5c116dc3d",
   "metadata": {},
   "outputs": [
    {
     "name": "stdout",
     "output_type": "stream",
     "text": [
      "Vocabulary Size: 92076\n",
      "Max Sequence Length: 1\n"
     ]
    }
   ],
   "source": [
    "# Extract input (words) and target (lemmas)\n",
    "X = data['Word']\n",
    "y = data['Lemma']\n",
    "\n",
    "# Encode the target labels (lemmas)\n",
    "label_encoder = LabelEncoder()\n",
    "y_encoded = label_encoder.fit_transform(y)\n",
    "\n",
    "# Tokenize the input words\n",
    "tokenizer = Tokenizer()\n",
    "tokenizer.fit_on_texts(X)\n",
    "X_tokenized = tokenizer.texts_to_sequences(X)\n",
    "\n",
    "# Pad sequences to make them the same length\n",
    "max_len = max(len(seq) for seq in X_tokenized)  # Find max sequence length\n",
    "X_padded = pad_sequences(X_tokenized, maxlen=max_len, padding='post')\n",
    "\n",
    "# Split data into training and testing sets\n",
    "X_train, X_test, y_train, y_test = train_test_split(X_padded, y_encoded, test_size=0.2, random_state=42)\n",
    "\n",
    "# Vocabulary size (add 1 for padding token)\n",
    "vocab_size = len(tokenizer.word_index) + 1\n",
    "\n",
    "print(\"Vocabulary Size:\", vocab_size)\n",
    "print(\"Max Sequence Length:\", max_len)\n"
   ]
  },
  {
   "cell_type": "markdown",
   "id": "0d596dc7-0ff5-40e1-8481-a995f1e51cf0",
   "metadata": {},
   "source": [
    "# Build the Model"
   ]
  },
  {
   "cell_type": "code",
   "execution_count": 5,
   "id": "85da2d98-94ab-464e-aa1f-51ded095f7d8",
   "metadata": {},
   "outputs": [
    {
     "data": {
      "text/html": [
       "<pre style=\"white-space:pre;overflow-x:auto;line-height:normal;font-family:Menlo,'DejaVu Sans Mono',consolas,'Courier New',monospace\"><span style=\"font-weight: bold\">Model: \"sequential_1\"</span>\n",
       "</pre>\n"
      ],
      "text/plain": [
       "\u001b[1mModel: \"sequential_1\"\u001b[0m\n"
      ]
     },
     "metadata": {},
     "output_type": "display_data"
    },
    {
     "data": {
      "text/html": [
       "<pre style=\"white-space:pre;overflow-x:auto;line-height:normal;font-family:Menlo,'DejaVu Sans Mono',consolas,'Courier New',monospace\">┏━━━━━━━━━━━━━━━━━━━━━━━━━━━━━━━━━━━━━━┳━━━━━━━━━━━━━━━━━━━━━━━━━━━━━┳━━━━━━━━━━━━━━━━━┓\n",
       "┃<span style=\"font-weight: bold\"> Layer (type)                         </span>┃<span style=\"font-weight: bold\"> Output Shape                </span>┃<span style=\"font-weight: bold\">         Param # </span>┃\n",
       "┡━━━━━━━━━━━━━━━━━━━━━━━━━━━━━━━━━━━━━━╇━━━━━━━━━━━━━━━━━━━━━━━━━━━━━╇━━━━━━━━━━━━━━━━━┩\n",
       "│ embedding_1 (<span style=\"color: #0087ff; text-decoration-color: #0087ff\">Embedding</span>)              │ ?                           │     <span style=\"color: #00af00; text-decoration-color: #00af00\">0</span> (unbuilt) │\n",
       "├──────────────────────────────────────┼─────────────────────────────┼─────────────────┤\n",
       "│ lstm_1 (<span style=\"color: #0087ff; text-decoration-color: #0087ff\">LSTM</span>)                        │ ?                           │     <span style=\"color: #00af00; text-decoration-color: #00af00\">0</span> (unbuilt) │\n",
       "├──────────────────────────────────────┼─────────────────────────────┼─────────────────┤\n",
       "│ dense_2 (<span style=\"color: #0087ff; text-decoration-color: #0087ff\">Dense</span>)                      │ ?                           │     <span style=\"color: #00af00; text-decoration-color: #00af00\">0</span> (unbuilt) │\n",
       "├──────────────────────────────────────┼─────────────────────────────┼─────────────────┤\n",
       "│ dense_3 (<span style=\"color: #0087ff; text-decoration-color: #0087ff\">Dense</span>)                      │ ?                           │     <span style=\"color: #00af00; text-decoration-color: #00af00\">0</span> (unbuilt) │\n",
       "└──────────────────────────────────────┴─────────────────────────────┴─────────────────┘\n",
       "</pre>\n"
      ],
      "text/plain": [
       "┏━━━━━━━━━━━━━━━━━━━━━━━━━━━━━━━━━━━━━━┳━━━━━━━━━━━━━━━━━━━━━━━━━━━━━┳━━━━━━━━━━━━━━━━━┓\n",
       "┃\u001b[1m \u001b[0m\u001b[1mLayer (type)                        \u001b[0m\u001b[1m \u001b[0m┃\u001b[1m \u001b[0m\u001b[1mOutput Shape               \u001b[0m\u001b[1m \u001b[0m┃\u001b[1m \u001b[0m\u001b[1m        Param #\u001b[0m\u001b[1m \u001b[0m┃\n",
       "┡━━━━━━━━━━━━━━━━━━━━━━━━━━━━━━━━━━━━━━╇━━━━━━━━━━━━━━━━━━━━━━━━━━━━━╇━━━━━━━━━━━━━━━━━┩\n",
       "│ embedding_1 (\u001b[38;5;33mEmbedding\u001b[0m)              │ ?                           │     \u001b[38;5;34m0\u001b[0m (unbuilt) │\n",
       "├──────────────────────────────────────┼─────────────────────────────┼─────────────────┤\n",
       "│ lstm_1 (\u001b[38;5;33mLSTM\u001b[0m)                        │ ?                           │     \u001b[38;5;34m0\u001b[0m (unbuilt) │\n",
       "├──────────────────────────────────────┼─────────────────────────────┼─────────────────┤\n",
       "│ dense_2 (\u001b[38;5;33mDense\u001b[0m)                      │ ?                           │     \u001b[38;5;34m0\u001b[0m (unbuilt) │\n",
       "├──────────────────────────────────────┼─────────────────────────────┼─────────────────┤\n",
       "│ dense_3 (\u001b[38;5;33mDense\u001b[0m)                      │ ?                           │     \u001b[38;5;34m0\u001b[0m (unbuilt) │\n",
       "└──────────────────────────────────────┴─────────────────────────────┴─────────────────┘\n"
      ]
     },
     "metadata": {},
     "output_type": "display_data"
    },
    {
     "data": {
      "text/html": [
       "<pre style=\"white-space:pre;overflow-x:auto;line-height:normal;font-family:Menlo,'DejaVu Sans Mono',consolas,'Courier New',monospace\"><span style=\"font-weight: bold\"> Total params: </span><span style=\"color: #00af00; text-decoration-color: #00af00\">0</span> (0.00 B)\n",
       "</pre>\n"
      ],
      "text/plain": [
       "\u001b[1m Total params: \u001b[0m\u001b[38;5;34m0\u001b[0m (0.00 B)\n"
      ]
     },
     "metadata": {},
     "output_type": "display_data"
    },
    {
     "data": {
      "text/html": [
       "<pre style=\"white-space:pre;overflow-x:auto;line-height:normal;font-family:Menlo,'DejaVu Sans Mono',consolas,'Courier New',monospace\"><span style=\"font-weight: bold\"> Trainable params: </span><span style=\"color: #00af00; text-decoration-color: #00af00\">0</span> (0.00 B)\n",
       "</pre>\n"
      ],
      "text/plain": [
       "\u001b[1m Trainable params: \u001b[0m\u001b[38;5;34m0\u001b[0m (0.00 B)\n"
      ]
     },
     "metadata": {},
     "output_type": "display_data"
    },
    {
     "data": {
      "text/html": [
       "<pre style=\"white-space:pre;overflow-x:auto;line-height:normal;font-family:Menlo,'DejaVu Sans Mono',consolas,'Courier New',monospace\"><span style=\"font-weight: bold\"> Non-trainable params: </span><span style=\"color: #00af00; text-decoration-color: #00af00\">0</span> (0.00 B)\n",
       "</pre>\n"
      ],
      "text/plain": [
       "\u001b[1m Non-trainable params: \u001b[0m\u001b[38;5;34m0\u001b[0m (0.00 B)\n"
      ]
     },
     "metadata": {},
     "output_type": "display_data"
    }
   ],
   "source": [
    "# Define the model\n",
    "model = Sequential([\n",
    "    Embedding(input_dim=vocab_size, output_dim=128),  # Embedding layer without input_length\n",
    "    LSTM(64, return_sequences=False),  # LSTM layer\n",
    "    Dense(128, activation='relu'),  # Fully connected layer\n",
    "    Dense(len(label_encoder.classes_), activation='softmax')  # Output layer\n",
    "])\n",
    "\n",
    "# Compile the model\n",
    "model.compile(optimizer='adam', loss='sparse_categorical_crossentropy', metrics=['accuracy'])\n",
    "\n",
    "# Display the model architecture\n",
    "model.summary()\n",
    "\n"
   ]
  },
  {
   "cell_type": "markdown",
   "id": "db1fa6d9-c40c-4c96-8adb-eff70677143c",
   "metadata": {},
   "source": [
    "# Train the Model"
   ]
  },
  {
   "cell_type": "code",
   "execution_count": 6,
   "id": "6f6ee9e8-64fe-4788-a66c-5bcdb3edc469",
   "metadata": {},
   "outputs": [
    {
     "name": "stdout",
     "output_type": "stream",
     "text": [
      "Epoch 1/10\n",
      "\u001b[1m2802/2802\u001b[0m \u001b[32m━━━━━━━━━━━━━━━━━━━━\u001b[0m\u001b[37m\u001b[0m \u001b[1m491s\u001b[0m 174ms/step - accuracy: 3.8805e-04 - loss: 9.1520 - val_accuracy: 0.0017 - val_loss: 8.8143\n",
      "Epoch 2/10\n",
      "\u001b[1m2802/2802\u001b[0m \u001b[32m━━━━━━━━━━━━━━━━━━━━\u001b[0m\u001b[37m\u001b[0m \u001b[1m477s\u001b[0m 170ms/step - accuracy: 0.0047 - loss: 8.0852 - val_accuracy: 0.0181 - val_loss: 8.7524\n",
      "Epoch 3/10\n",
      "\u001b[1m2802/2802\u001b[0m \u001b[32m━━━━━━━━━━━━━━━━━━━━\u001b[0m\u001b[37m\u001b[0m \u001b[1m479s\u001b[0m 171ms/step - accuracy: 0.0734 - loss: 6.4600 - val_accuracy: 0.0886 - val_loss: 8.8451\n",
      "Epoch 4/10\n",
      "\u001b[1m2802/2802\u001b[0m \u001b[32m━━━━━━━━━━━━━━━━━━━━\u001b[0m\u001b[37m\u001b[0m \u001b[1m787s\u001b[0m 281ms/step - accuracy: 0.3329 - loss: 4.2867 - val_accuracy: 0.1363 - val_loss: 9.3323\n",
      "Epoch 5/10\n",
      "\u001b[1m2802/2802\u001b[0m \u001b[32m━━━━━━━━━━━━━━━━━━━━\u001b[0m\u001b[37m\u001b[0m \u001b[1m527s\u001b[0m 188ms/step - accuracy: 0.5477 - loss: 2.9352 - val_accuracy: 0.1618 - val_loss: 10.1054\n",
      "Epoch 6/10\n",
      "\u001b[1m2802/2802\u001b[0m \u001b[32m━━━━━━━━━━━━━━━━━━━━\u001b[0m\u001b[37m\u001b[0m \u001b[1m520s\u001b[0m 186ms/step - accuracy: 0.6698 - loss: 2.1779 - val_accuracy: 0.1745 - val_loss: 10.9566\n",
      "Epoch 7/10\n",
      "\u001b[1m2802/2802\u001b[0m \u001b[32m━━━━━━━━━━━━━━━━━━━━\u001b[0m\u001b[37m\u001b[0m \u001b[1m539s\u001b[0m 192ms/step - accuracy: 0.7306 - loss: 1.7362 - val_accuracy: 0.1834 - val_loss: 11.8082\n",
      "Epoch 8/10\n",
      "\u001b[1m2802/2802\u001b[0m \u001b[32m━━━━━━━━━━━━━━━━━━━━\u001b[0m\u001b[37m\u001b[0m \u001b[1m8544s\u001b[0m 3s/step - accuracy: 0.7694 - loss: 1.4408 - val_accuracy: 0.1913 - val_loss: 12.4068\n",
      "Epoch 9/10\n",
      "\u001b[1m2802/2802\u001b[0m \u001b[32m━━━━━━━━━━━━━━━━━━━━\u001b[0m\u001b[37m\u001b[0m \u001b[1m510s\u001b[0m 173ms/step - accuracy: 0.8006 - loss: 1.1958 - val_accuracy: 0.1955 - val_loss: 12.8973\n",
      "Epoch 10/10\n",
      "\u001b[1m2802/2802\u001b[0m \u001b[32m━━━━━━━━━━━━━━━━━━━━\u001b[0m\u001b[37m\u001b[0m \u001b[1m483s\u001b[0m 172ms/step - accuracy: 0.8234 - loss: 1.0293 - val_accuracy: 0.1980 - val_loss: 13.5426\n"
     ]
    }
   ],
   "source": [
    "# Train the model\n",
    "history = model.fit(\n",
    "    X_train, \n",
    "    y_train, \n",
    "    epochs=10, \n",
    "    batch_size=32, \n",
    "    validation_data=(X_test, y_test)\n",
    ")\n"
   ]
  },
  {
   "cell_type": "markdown",
   "id": "7ec7842c-1cea-4539-a621-6641c99788d8",
   "metadata": {},
   "source": [
    "# Evaluate the Model\n",
    "Check the performance of the model on the test set."
   ]
  },
  {
   "cell_type": "code",
   "execution_count": 7,
   "id": "697773a8-0204-4d8f-9f19-14cb0448f4a4",
   "metadata": {},
   "outputs": [
    {
     "name": "stdout",
     "output_type": "stream",
     "text": [
      "\u001b[1m701/701\u001b[0m \u001b[32m━━━━━━━━━━━━━━━━━━━━\u001b[0m\u001b[37m\u001b[0m \u001b[1m7s\u001b[0m 10ms/step - accuracy: 0.1956 - loss: 13.4662\n",
      "Test Loss: 13.542635917663574\n",
      "Test Accuracy: 0.19798357784748077\n"
     ]
    }
   ],
   "source": [
    "# Evaluate the model\n",
    "test_loss, test_accuracy = model.evaluate(X_test, y_test)\n",
    "print(\"Test Loss:\", test_loss)\n",
    "print(\"Test Accuracy:\", test_accuracy)\n"
   ]
  },
  {
   "cell_type": "markdown",
   "id": "2a4dc5de-9a11-48c5-8586-235f4f629c60",
   "metadata": {},
   "source": [
    "# Visualize Training Progress"
   ]
  },
  {
   "cell_type": "code",
   "execution_count": 8,
   "id": "d6edc83c-8621-4e46-b3bc-5cf226338c4d",
   "metadata": {},
   "outputs": [
    {
     "data": {
      "image/png": "[encoded data removed]",
      "text/plain": [
       "<Figure size 640x480 with 1 Axes>"
      ]
     },
     "metadata": {},
     "output_type": "display_data"
    },
    {
     "data": {
      "image/png": "[encoded data removed]",
      "text/plain": [
       "<Figure size 640x480 with 1 Axes>"
      ]
     },
     "metadata": {},
     "output_type": "display_data"
    }
   ],
   "source": [
    "# Plot training and validation accuracy\n",
    "plt.plot(history.history['accuracy'], label='Train Accuracy')\n",
    "plt.plot(history.history['val_accuracy'], label='Validation Accuracy')\n",
    "plt.title('Model Accuracy')\n",
    "plt.xlabel('Epoch')\n",
    "plt.ylabel('Accuracy')\n",
    "plt.legend()\n",
    "plt.show()\n",
    "\n",
    "# Plot training and validation loss\n",
    "plt.plot(history.history['loss'], label='Train Loss')\n",
    "plt.plot(history.history['val_loss'], label='Validation Loss')\n",
    "plt.title('Model Loss')\n",
    "plt.xlabel('Epoch')\n",
    "plt.ylabel('Loss')\n",
    "plt.legend()\n",
    "plt.show()\n"
   ]
  },
  {
   "cell_type": "markdown",
   "id": "90c5fb0c-4478-4173-937e-2500dac8e162",
   "metadata": {},
   "source": [
    "# Predict Lemmas"
   ]
  },
  {
   "cell_type": "code",
   "execution_count": 19,
   "id": "4747e96b-9ef8-43d8-98b0-0c7a661cc5d8",
   "metadata": {},
   "outputs": [
    {
     "name": "stdout",
     "output_type": "stream",
     "text": [
      "\u001b[1m1/1\u001b[0m \u001b[32m━━━━━━━━━━━━━━━━━━━━\u001b[0m\u001b[37m\u001b[0m \u001b[1m0s\u001b[0m 97ms/step\n",
      "Predicted Lemma for 'تقریبی': تقریب\n"
     ]
    }
   ],
   "source": [
    "# Function to predict lemma for a given word\n",
    "def predict_lemma(word):\n",
    "    seq = tokenizer.texts_to_sequences([word])\n",
    "    padded_seq = pad_sequences(seq, maxlen=max_len, padding='post')\n",
    "    pred = model.predict(padded_seq)\n",
    "    pred_label = np.argmax(pred)\n",
    "    return label_encoder.inverse_transform([pred_label])[0]\n",
    "\n",
    "# Test the function with a sample word\n",
    "sample_word = \"تقریبی\"  # Replace with any word\n",
    "predicted_lemma = predict_lemma(sample_word)\n",
    "print(f\"Predicted Lemma for '{sample_word}': {predicted_lemma}\")\n"
   ]
  },
  {
   "cell_type": "code",
   "execution_count": 24,
   "id": "2d621ad7-13f9-43e7-abf6-8f74368fd2a6",
   "metadata": {},
   "outputs": [
    {
     "name": "stdout",
     "output_type": "stream",
     "text": [
      "\u001b[1m1/1\u001b[0m \u001b[32m━━━━━━━━━━━━━━━━━━━━\u001b[0m\u001b[37m\u001b[0m \u001b[1m0s\u001b[0m 123ms/step\n",
      "Predicted Lemma for 'دوڑتا': دوڑ\n",
      "\u001b[1m1/1\u001b[0m \u001b[32m━━━━━━━━━━━━━━━━━━━━\u001b[0m\u001b[37m\u001b[0m \u001b[1m0s\u001b[0m 122ms/step\n",
      "Predicted Lemma for 'سنبھالے': سنبھال\n",
      "\u001b[1m1/1\u001b[0m \u001b[32m━━━━━━━━━━━━━━━━━━━━\u001b[0m\u001b[37m\u001b[0m \u001b[1m0s\u001b[0m 66ms/step\n",
      "Predicted Lemma for 'رسمے': رسم\n",
      "\u001b[1m1/1\u001b[0m \u001b[32m━━━━━━━━━━━━━━━━━━━━\u001b[0m\u001b[37m\u001b[0m \u001b[1m0s\u001b[0m 81ms/step\n",
      "Predicted Lemma for 'کتابیں': کتاب\n",
      "\u001b[1m1/1\u001b[0m \u001b[32m━━━━━━━━━━━━━━━━━━━━\u001b[0m\u001b[37m\u001b[0m \u001b[1m0s\u001b[0m 81ms/step\n",
      "Predicted Lemma for 'علمبرداردے': علمبردار\n"
     ]
    }
   ],
   "source": [
    "# Function to predict lemma for a given word\n",
    "def predict_lemma(word):\n",
    "    seq = tokenizer.texts_to_sequences([word])  # Convert the word into a sequence\n",
    "    padded_seq = pad_sequences(seq, maxlen=max_len, padding='post')  # Pad the sequence to match the max length\n",
    "    pred = model.predict(padded_seq)  # Get the model's predictions\n",
    "    pred_label = np.argmax(pred)  # Get the label index with the highest probability\n",
    "    return label_encoder.inverse_transform([pred_label])[0]  # Convert label back to lemma\n",
    "\n",
    "# Test the function with 5 example words\n",
    "example_words = [\"دوڑتا\", \"سنبھالے\", \"رسمے\", \"کتابیں\", \"علمبرداردے\", ]  # Replace with other words if needed\n",
    "\n",
    "# Predict lemmas for each word\n",
    "for word in example_words:\n",
    "    predicted_lemma = predict_lemma(word)\n",
    "    print(f\"Predicted Lemma for '{word}': {predicted_lemma}\")\n"
   ]
  },
  {
   "cell_type": "markdown",
   "id": "8d736965-4947-4496-abb2-8da2684f60d0",
   "metadata": {},
   "source": [
    "# Save and Reload the Model"
   ]
  },
  {
   "cell_type": "code",
   "execution_count": 13,
   "id": "5b7f98bb-5321-4f2c-9aac-5b0d62d3b7f2",
   "metadata": {},
   "outputs": [
    {
     "name": "stdout",
     "output_type": "stream",
     "text": [
      "Model loaded and recompiled successfully!\n"
     ]
    }
   ],
   "source": [
    "# Save the model without the optimizer (optional, for inference-only)\n",
    "model.save(\"urdu_punjabi_lemmatizer.keras\", include_optimizer=False)\n",
    "\n",
    "# Load the model\n",
    "from tensorflow.keras.models import load_model\n",
    "loaded_model = load_model(\"urdu_punjabi_lemmatizer.keras\")\n",
    "\n",
    "# Recompile the model with a fresh optimizer if retraining or evaluating\n",
    "loaded_model.compile(optimizer='rmsprop', loss='sparse_categorical_crossentropy', metrics=['accuracy'])\n",
    "\n",
    "print(\"Model loaded and recompiled successfully!\")\n"
   ]
  },
  {
   "cell_type": "markdown",
   "id": "adc4e972-d1c0-4297-b50c-6cea2629257d",
   "metadata": {},
   "source": [
    "# Test Reloaded Model"
   ]
  },
  {
   "cell_type": "code",
   "execution_count": 25,
   "id": "181e2da1-ac4c-4970-b6b6-6c499ff335e9",
   "metadata": {},
   "outputs": [
    {
     "name": "stdout",
     "output_type": "stream",
     "text": [
      "\u001b[1m1/1\u001b[0m \u001b[32m━━━━━━━━━━━━━━━━━━━━\u001b[0m\u001b[37m\u001b[0m \u001b[1m0s\u001b[0m 304ms/step\n",
      "Predicted Lemma for 'دوڑاں': دوڑ\n"
     ]
    }
   ],
   "source": [
    "# Use the reloaded model to predict a lemma\n",
    "sample_word = \"دوڑاں\"\n",
    "padded_seq = pad_sequences(tokenizer.texts_to_sequences([sample_word]), maxlen=max_len, padding='post')\n",
    "pred = loaded_model.predict(padded_seq)\n",
    "predicted_lemma = label_encoder.inverse_transform([np.argmax(pred)])[0]\n",
    "print(f\"Predicted Lemma for '{sample_word}': {predicted_lemma}\")\n"
   ]
  }
 ],
 "metadata": {
  "kernelspec": {
   "display_name": "Python 3 (ipykernel)",
   "language": "python",
   "name": "python3"
  },
  "language_info": {
   "codemirror_mode": {
    "name": "ipython",
    "version": 3
   },
   "file_extension": ".py",
   "mimetype": "text/x-python",
   "name": "python",
   "nbconvert_exporter": "python",
   "pygments_lexer": "ipython3",
   "version": "3.12.2"
  }
 },
 "nbformat": 4,
 "nbformat_minor": 5
}
